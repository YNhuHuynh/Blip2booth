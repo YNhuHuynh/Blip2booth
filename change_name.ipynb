{
 "cells": [
  {
   "cell_type": "code",
   "execution_count": 3,
   "id": "36408e53-591c-4194-a3f3-50b90fbd7db5",
   "metadata": {},
   "outputs": [
    {
     "name": "stdout",
     "output_type": "stream",
     "text": [
      "All images have been renamed.\n"
     ]
    }
   ],
   "source": [
    "import os\n",
    "\n",
    "# Specify the directory where your images are located\n",
    "directory = 'dataset/shiny_sneaker/class_images'\n",
    "directory = 'dataset/shiny_sneaker'\n",
    "\n",
    "\n",
    "# Ensure the directory exists\n",
    "if not os.path.exists(directory):\n",
    "    print(f\"The specified directory '{directory}' does not exist.\")\n",
    "    exit()\n",
    "\n",
    "# List all files in the directory\n",
    "files = os.listdir(directory)\n",
    "\n",
    "# Initialize a counter\n",
    "counter = 1\n",
    "\n",
    "# Loop through the files in the directory\n",
    "for filename in files:\n",
    "    if filename.lower().endswith(('.png', '.jpg', '.jpeg', '.gif', '.bmp')):\n",
    "        # Create the new filename with leading zeros\n",
    "        new_filename = f\"{counter:02d}{os.path.splitext(filename)[1]}\"\n",
    "\n",
    "        # Construct the full paths\n",
    "        old_path = os.path.join(directory, filename)\n",
    "        new_path = os.path.join(directory, new_filename)\n",
    "\n",
    "        # Rename the file\n",
    "        os.rename(old_path, new_path)\n",
    "\n",
    "        # Increment the counter\n",
    "        counter += 1\n",
    "\n",
    "print(\"All images have been renamed.\")\n"
   ]
  },
  {
   "cell_type": "code",
   "execution_count": null,
   "id": "63b3f13d-9251-4372-9dbf-0ccf4437ae6b",
   "metadata": {},
   "outputs": [],
   "source": []
  }
 ],
 "metadata": {
  "kernelspec": {
   "display_name": "Python 3 (ipykernel)",
   "language": "python",
   "name": "python3"
  },
  "language_info": {
   "codemirror_mode": {
    "name": "ipython",
    "version": 3
   },
   "file_extension": ".py",
   "mimetype": "text/x-python",
   "name": "python",
   "nbconvert_exporter": "python",
   "pygments_lexer": "ipython3",
   "version": "3.9.12"
  }
 },
 "nbformat": 4,
 "nbformat_minor": 5
}
